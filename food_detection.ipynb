{
  "nbformat": 4,
  "nbformat_minor": 0,
  "metadata": {
    "kernelspec": {
      "display_name": "Python 3",
      "language": "python",
      "name": "python3"
    },
    "language_info": {
      "codemirror_mode": {
        "name": "ipython",
        "version": 3
      },
      "file_extension": ".py",
      "mimetype": "text/x-python",
      "name": "python",
      "nbconvert_exporter": "python",
      "pygments_lexer": "ipython3",
      "version": "3.8.5-final"
    },
    "colab": {
      "name": "food-classification.ipynb",
      "provenance": [],
      "collapsed_sections": [
        "motIEZu_TVih",
        "KIgareCETmct",
        "O5rLWIHpUGWf",
        "upx61ukJiA8B",
        "KbDzLAHGpJXQ",
        "qjeWMHrCwSoS",
        "rdaEgO6F7SBK",
        "1HgX4oW_SdPa",
        "wd812I9ZSdPb",
        "rzAIM3wSSdRL",
        "h4EVNugOSdRN",
        "azzborbxSdRO",
        "4zSHoD0fSdRP",
        "AtTD92AASdRV",
        "1MJ5oy0VSdRW",
        "NCtkBV4USdRW",
        "7feEa_xDaGE0",
        "xwX7VcZteclM",
        "n9QEVkQISdRX",
        "EUMvFVBXnnex"
      ]
    },
    "accelerator": "GPU"
  },
  "cells": [
    {
      "cell_type": "code",
      "execution_count": null,
      "metadata": {},
      "outputs": [],
      "source": [
        "cd D:/food-detection"
      ]
    },
    {
      "cell_type": "code",
      "metadata": {
        "id": "QjLXYWbzYpdt",
        "colab": {
          "base_uri": "https://localhost:8080/"
        },
        "outputId": "24ddd985-3e3c-40a1-dfbf-af2759347aac"
      },
      "source": [
        "pwd"
      ],
      "execution_count": null,
      "outputs": []
    },
    {
      "cell_type": "code",
      "metadata": {
        "_uuid": "dd82702380162e9587a0eae2f644dae2764f93c8",
        "id": "_ss3ErNpSdPC",
        "colab": {
          "base_uri": "https://localhost:8080/"
        },
        "outputId": "416b4c86-f791-4b3f-8956-e1e285f865b3"
      },
      "source": [
        "# Libraries to be used\n",
        "\n",
        "# for API call\n",
        "import requests\n",
        "\n",
        "# for displaying and directory management\n",
        "import matplotlib.image as img\n",
        "%matplotlib inline\n",
        "import numpy as np\n",
        "from collections import defaultdict\n",
        "import collections\n",
        "from shutil import copy\n",
        "from shutil import copytree, rmtree\n",
        "import os\n",
        "import random\n",
        "\n",
        "# fro Deep Learning Model\n",
        "import numpy as np\n",
        "from tensorflow.keras.models import load_model\n",
        "from tensorflow.keras.preprocessing import image\n",
        "import matplotlib.pyplot as plt\n",
        "import tensorflow as tf\n",
        "import tensorflow.keras.backend as K\n",
        "from tensorflow.keras import regularizers\n",
        "from tensorflow.keras.applications.inception_v3 import InceptionV3\n",
        "from tensorflow.keras.models import Sequential, Model\n",
        "from tensorflow.keras.layers import Dense, Dropout, Activation, Flatten\n",
        "from tensorflow.keras.layers import Convolution2D, MaxPooling2D, ZeroPadding2D, GlobalAveragePooling2D, AveragePooling2D\n",
        "from tensorflow.keras.preprocessing.image import ImageDataGenerator\n",
        "from tensorflow.keras.callbacks import ModelCheckpoint, CSVLogger\n",
        "from tensorflow.keras.optimizers import SGD\n",
        "from tensorflow.keras.regularizers import l2\n",
        "from tensorflow import keras\n",
        "from tensorflow.keras import models\n",
        "import cv2\n",
        "\n",
        "print('Dependencies Imported')"
      ],
      "execution_count": null,
      "outputs": []
    },
    {
      "cell_type": "code",
      "metadata": {
        "_uuid": "70f06e9a535b5f32ad9d927fc00e767dd72f17dd",
        "id": "JOZZbCDoP-Hy",
        "colab": {
          "base_uri": "https://localhost:8080/"
        },
        "outputId": "3175129e-3d0d-4898-f2b0-7768dfe6626a"
      },
      "source": [
        "# checking the correct version of TF \n",
        "print(tf.__version__)\n",
        "print(tf.test.gpu_device_name())\n",
        "\n",
        "# validating API key\n",
        "api_url = 'https://api.calorieninjas.com/v1/nutrition?query='\n",
        "query = 'sushi'\n",
        "response = requests.get(api_url + query, headers={'X-Api-Key': 'Sa1uVWZLKXJxM5YPaIEfpg==cEn3gyPDIKhGlmor'})\n",
        "if response.status_code == requests.codes.ok:\n",
        "    print(response.text)\n",
        "else:\n",
        "    print(\"Error:\", response.status_code, response.text)"
      ],
      "execution_count": null,
      "outputs": []
    },
    {
      "cell_type": "code",
      "metadata": {
        "_uuid": "7ceb7f04d55f3d1510a03868713e773e7df17046",
        "id": "7wJ_OH1DQyrd",
        "colab": {
          "base_uri": "https://localhost:8080/"
        },
        "outputId": "e958bb18-04f9-42d3-afd3-92197d069234"
      },
      "source": [
        "os.listdir('food-101/') "
      ],
      "execution_count": null,
      "outputs": []
    },
    {
      "cell_type": "code",
      "metadata": {
        "_uuid": "9a3e091f8d5db4be5a553a2fd23970dde7c649f2",
        "id": "yy_pAK35Rbdi",
        "colab": {
          "base_uri": "https://localhost:8080/"
        },
        "outputId": "1702261a-00a7-4afb-e701-bc819f35a350"
      },
      "source": [
        "os.listdir('food-101/images')"
      ],
      "execution_count": null,
      "outputs": []
    },
    {
      "cell_type": "code",
      "metadata": {
        "_uuid": "c3f4490c55a470c25cf5f92f131f21701782e645",
        "id": "jdIDm6tkSwqY",
        "colab": {
          "base_uri": "https://localhost:8080/"
        },
        "outputId": "9cedca21-7ea3-495c-a876-9d26adce3a04"
      },
      "source": [
        "os.listdir('food-101/meta')"
      ],
      "execution_count": null,
      "outputs": []
    },
    {
      "cell_type": "code",
      "metadata": {
        "_uuid": "da6910e8bb064b76c17e07f0a2e0e23ebdefbbfa",
        "id": "Jfif27Pr5KEn",
        "colab": {
          "base_uri": "https://localhost:8080/",
          "height": 1000
        },
        "outputId": "fc8429a6-48c1-44ec-9c72-ca744299e743"
      },
      "source": [
        "# display 1 random image of each class\n",
        "rows = 2\n",
        "cols = 5\n",
        "fig, ax = plt.subplots(rows, cols, figsize=(25,25))\n",
        "fig.suptitle(\"Showing one random image from each class\", y=1.05, fontsize=24)\n",
        "data_dir = \"food-101/images/\"\n",
        "foods_sorted = sorted(os.listdir(data_dir))\n",
        "food_id = 0\n",
        "for i in range(rows):\n",
        "  for j in range(cols):\n",
        "    try:\n",
        "      food_selected = foods_sorted[food_id] \n",
        "      food_id += 1\n",
        "    except:\n",
        "      break\n",
        "    food_selected_images = os.listdir(os.path.join(data_dir,food_selected))\n",
        "    food_selected_random = np.random.choice(food_selected_images)\n",
        "    img = plt.imread(os.path.join(data_dir,food_selected, food_selected_random))\n",
        "    ax[i][j].imshow(img)\n",
        "    ax[i][j].set_title(food_selected, pad = 10)\n",
        "    \n",
        "plt.setp(ax, xticks=[],yticks=[])\n",
        "plt.tight_layout()"
      ],
      "execution_count": null,
      "outputs": []
    },
    {
      "cell_type": "code",
      "metadata": {
        "_uuid": "d6c87e52c1af18e3243f1cb72b5834941828b286",
        "id": "xB0XMUX_5KMQ"
      },
      "source": [
        "# preparing dataset to form test & train with the help of META folder provided with the dataset\n",
        "def prepare_data(filepath, src, dest):\n",
        "  classes_images = defaultdict(list)\n",
        "  with open(filepath, 'r') as txt:\n",
        "      paths = [read.strip() for read in txt.readlines()]\n",
        "      for p in paths:\n",
        "        food = p.split('/')\n",
        "        classes_images[food[0]].append(food[1] + '.jpg')\n",
        "\n",
        "  for food in classes_images.keys():\n",
        "    print(\"\\nCopying images into \",food)\n",
        "    if not os.path.exists(os.path.join(dest,food)):\n",
        "      os.makedirs(os.path.join(dest,food))\n",
        "    for i in classes_images[food]:\n",
        "      copy(os.path.join(src,food,i), os.path.join(dest,food,i))\n",
        "  print(\"Copying Done!\")"
      ],
      "execution_count": null,
      "outputs": []
    },
    {
      "cell_type": "code",
      "metadata": {
        "_uuid": "786cdb3d60ebcdddb4c2875f9e0b4508c5210fc1",
        "id": "LSgcYcqy5KUd",
        "colab": {
          "base_uri": "https://localhost:8080/"
        },
        "outputId": "b98e027d-f099-4dd7-a4f3-6556e4910c42"
      },
      "source": [
        "print(\"Creating train data...\")\n",
        "prepare_data('food-101/meta/train.txt', 'food-101/images', 'train')"
      ],
      "execution_count": null,
      "outputs": []
    },
    {
      "cell_type": "code",
      "metadata": {
        "_uuid": "ba85577e0ef10c768e000ecf32dee36566d52599",
        "id": "JI65wZgT5Kb-",
        "colab": {
          "base_uri": "https://localhost:8080/"
        },
        "outputId": "68a22e16-29e6-421a-d37d-a93e2b9f7742"
      },
      "source": [
        "print(\"Creating test data...\")\n",
        "prepare_data('food-101/meta/test.txt', 'food-101/images', 'test')"
      ],
      "execution_count": null,
      "outputs": []
    },
    {
      "cell_type": "code",
      "metadata": {
        "_uuid": "61dfaaf6466e5677c0c732c9133561e27d048ef0",
        "id": "0ziptMqdSdPQ",
        "colab": {
          "base_uri": "https://localhost:8080/"
        },
        "outputId": "a9bba85b-1739-48e2-acf9-52d04526a7e4"
      },
      "source": [
        "foods_sorted"
      ],
      "execution_count": null,
      "outputs": []
    },
    {
      "cell_type": "code",
      "execution_count": null,
      "metadata": {},
      "outputs": [],
      "source": [
        "# selected list of 10 classes\n",
        "food_list = ['donuts',\n",
        " 'french_fries',\n",
        " 'fried_rice',\n",
        " 'hamburger',\n",
        " 'hot_dog',\n",
        " 'pizza',\n",
        " 'samosa',\n",
        " 'spring_rolls',\n",
        " 'sushi',\n",
        " 'waffles']"
      ]
    },
    {
      "cell_type": "code",
      "metadata": {
        "_uuid": "8d08ece78ab731f7ac8a9b4b581e42e29093bcca",
        "id": "JBs1U7hZkp1U",
        "colab": {
          "base_uri": "https://localhost:8080/"
        },
        "outputId": "cffcbe8d-49bc-4a54-9ea0-0a6da8d65221"
      },
      "source": [
        "# starting a TF session for training the model \n",
        "K.clear_session()\n",
        "n_classes = 10\n",
        "\n",
        "# size of target image\n",
        "img_width, img_height = 299, 299\n",
        "\n",
        "train_data_dir = 'train'\n",
        "validation_data_dir = 'test'\n",
        "train_samples = 7500\n",
        "validation_samples = 2500\n",
        "batch_size = 16\n",
        "\n",
        "# data augmentation for train & test\n",
        "train_datagen = ImageDataGenerator(\n",
        "    rescale=1. / 255,\n",
        "    shear_range=0.2,\n",
        "    zoom_range=0.2,\n",
        "    horizontal_flip=True)\n",
        "\n",
        "test_datagen = ImageDataGenerator(rescale=1. / 255)\n",
        "\n",
        "train_generator = train_datagen.flow_from_directory(\n",
        "    train_data_dir,\n",
        "    target_size=(img_height, img_width),\n",
        "    batch_size=batch_size,\n",
        "    class_mode='categorical')\n",
        "\n",
        "validation_generator = test_datagen.flow_from_directory(\n",
        "    validation_data_dir,\n",
        "    target_size=(img_height, img_width),\n",
        "    batch_size=batch_size,\n",
        "    class_mode='categorical')\n",
        "\n",
        "# import InceptionV3 Model \n",
        "inception = InceptionV3(weights='imagenet', include_top=False)\n",
        "x = inception.output\n",
        "x = GlobalAveragePooling2D()(x)\n",
        "x = Dense(128,activation='relu')(x)\n",
        "x = Dropout(0.2)(x)\n",
        "\n",
        "predictions = Dense(10,kernel_regularizer=regularizers.l2(0.005), activation='softmax')(x)\n",
        "\n",
        "model = Model(inputs=inception.input, outputs=predictions)\n",
        "model.compile(optimizer=SGD(lr=0.0001, momentum=0.9), loss='categorical_crossentropy', metrics=['accuracy'])\n",
        "\n",
        "# checkpointing the model\n",
        "checkpointer = ModelCheckpoint(filepath='best_model_10class.hdf5', verbose=1, save_best_only=True)\n",
        "csv_logger = CSVLogger('history_10class.log')\n",
        "\n",
        "history = model.fit_generator(train_generator,\n",
        "                    steps_per_epoch = train_samples // batch_size,\n",
        "                    validation_data=validation_generator,\n",
        "                    validation_steps=validation_samples // batch_size,\n",
        "                    epochs=30,\n",
        "                    verbose=1,\n",
        "                    callbacks=[csv_logger, checkpointer])\n",
        "\n",
        "# saving the model, to be used in the web app\n",
        "model.save('model_trained_10class.hdf5')\n"
      ],
      "execution_count": null,
      "outputs": []
    },
    {
      "cell_type": "code",
      "execution_count": null,
      "metadata": {
        "tags": [
          "outputPrepend"
        ]
      },
      "outputs": [],
      "source": [
        "model.summary()"
      ]
    },
    {
      "cell_type": "code",
      "metadata": {
        "_uuid": "558180f917fba895b9792328b234421c097f1ba0",
        "id": "C_zkQD-ESdPR",
        "colab": {
          "base_uri": "https://localhost:8080/"
        },
        "outputId": "d7c0c58d-0983-4ce2-e35f-ba36fade78ab"
      },
      "source": [
        "class_map_10 = train_generator.class_indices\n",
        "class_map_10"
      ],
      "execution_count": null,
      "outputs": []
    },
    {
      "cell_type": "code",
      "metadata": {
        "_uuid": "27084e072edb2c961bfa6be87d80f273d32533c2",
        "id": "SjRm_AWZpPZm"
      },
      "source": [
        "def plot_accuracy(history,title):\n",
        "    plt.title(title)\n",
        "    plt.plot(history.history['accuracy'])\n",
        "    plt.plot(history.history['val_accuracy'])\n",
        "    plt.ylabel('accuracy')\n",
        "    plt.xlabel('epoch')\n",
        "    plt.legend(['train_accuracy', 'validation_accuracy'], loc='best')\n",
        "    plt.show()\n",
        "def plot_loss(history,title):\n",
        "    plt.title(title)\n",
        "    plt.plot(history.history['loss'])\n",
        "    plt.plot(history.history['val_loss'])\n",
        "    plt.ylabel('loss')\n",
        "    plt.xlabel('epoch')\n",
        "    plt.legend(['train_loss', 'validation_loss'], loc='best')\n",
        "    plt.show()\n"
      ],
      "execution_count": null,
      "outputs": []
    },
    {
      "cell_type": "code",
      "metadata": {
        "_uuid": "a73c830d2fbd841c9541628061313e4fd8506a51",
        "id": "7n8Y6lsdSdPS",
        "colab": {
          "base_uri": "https://localhost:8080/",
          "height": 573
        },
        "outputId": "43b7a312-fa71-4dec-a938-36532419aebe"
      },
      "source": [
        "plot_accuracy(history,'FOOD101-Inceptionv3')\n",
        "plot_loss(history,'FOOD101-Inceptionv3')"
      ],
      "execution_count": null,
      "outputs": []
    },
    {
      "cell_type": "code",
      "metadata": {
        "_uuid": "dead5f30514dd02e80463adb162ca508ca34ee74",
        "id": "XBb-sj73pNc7",
        "colab": {
          "base_uri": "https://localhost:8080/"
        },
        "outputId": "849eecfa-2f90-4a83-9c52-79b2c7abb683"
      },
      "source": [
        "# loading the model\n",
        "K.clear_session()\n",
        "print(\"Loading the model..\")\n",
        "model = load_model('best_model_10class.hdf5',compile = False)\n",
        "print(\"Done!\")"
      ],
      "execution_count": null,
      "outputs": []
    },
    {
      "cell_type": "code",
      "metadata": {
        "_uuid": "310fae2c5342c7f432962c4b2e90f09724b5d2c2",
        "id": "5MIBtyj1pFoK"
      },
      "source": [
        "# prediction function\n",
        "def predict_class(model, images):\n",
        "  for img in images:\n",
        "    img = image.load_img(img, target_size=(299, 299))\n",
        "    img = image.img_to_array(img)                    \n",
        "    img = np.expand_dims(img, axis=0)         \n",
        "    img /= 255.                                      \n",
        "\n",
        "    pred = model.predict(img)\n",
        "    index = np.argmax(pred)\n",
        "    food_list.sort()\n",
        "    pred_value = food_list[index]\n",
        "    api_url = 'https://api.calorieninjas.com/v1/nutrition?query='\n",
        "    query = pred_value.replace(\"_\",\" \")\n",
        "    response = requests.get(api_url + query, headers={'X-Api-Key': 'Sa1uVWZLKXJxM5YPaIEfpg==cEn3gyPDIKhGlmor'})\n",
        "    if response.status_code == requests.codes.ok:\n",
        "        print(response.text)\n",
        "    else:\n",
        "        print(\"Error:\", response.status_code, response.text)"
      ],
      "execution_count": null,
      "outputs": []
    },
    {
      "cell_type": "code",
      "metadata": {
        "_uuid": "75bf083ef761963365a06ed543ac4c33d048ba52",
        "id": "uzLVocClxD0f",
        "colab": {
          "base_uri": "https://localhost:8080/",
          "height": 1000
        },
        "outputId": "9659021e-7327-4620-b372-ea8a2dee19d4"
      },
      "source": [
        "# trying on test images\n",
        "images = []\n",
        "images.append('img/burger.jpg')\n",
        "images.append('img/samosa.jpg')\n",
        "predict_class(model, images)"
      ],
      "execution_count": null,
      "outputs": []
    }
  ]
}